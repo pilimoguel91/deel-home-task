{
 "cells": [
  {
   "cell_type": "code",
   "execution_count": 182,
   "id": "964632c5-3c9d-41b7-abb3-94862b5f92b2",
   "metadata": {},
   "outputs": [
    {
     "name": "stdout",
     "output_type": "stream",
     "text": [
      "ERROR: unknown command \"seaborn\" - maybe you meant \"search\"\n",
      "Note: you may need to restart the kernel to use updated packages.\n"
     ]
    }
   ],
   "source": [
    "pip seaborn"
   ]
  },
  {
   "cell_type": "code",
   "execution_count": 279,
   "id": "a7601811-b456-4022-bc28-de4147eb3c8a",
   "metadata": {},
   "outputs": [],
   "source": [
    "import pandas as pd\n",
    "import matplotlib.pyplot as plt\n",
    "import seaborn as sns\n",
    "import numpy as np\n"
   ]
  },
  {
   "cell_type": "code",
   "execution_count": 437,
   "id": "5883bcb5-11bd-4637-8fb9-94e030e99dad",
   "metadata": {},
   "outputs": [],
   "source": [
    "# Import csv file \n",
    "eor_contracts = pd.read_csv('seeds/eor_contracts_activated.csv')\n",
    "\n",
    "# convert date columns to date format\n",
    "for column in eor_contracts.iloc[:, 3:]:\n",
    "    eor_contracts[column] = pd.to_datetime(eor_contracts[column])"
   ]
  },
  {
   "cell_type": "code",
   "execution_count": 438,
   "id": "6a72e799-6bed-484b-8636-22a63f738e8a",
   "metadata": {},
   "outputs": [
    {
     "name": "stdout",
     "output_type": "stream",
     "text": [
      "75.16580692704495\n"
     ]
    }
   ],
   "source": [
    "# Calculate the number of total and delayed contracts\n",
    "eor_contracts[\"is_delayed\"] = eor_contracts[\"Original Start Date\"] < eor_contracts[\"Actual Start Date\"]\n",
    "eor_contracts_delayed = eor_contracts[eor_contracts[\"is_delayed\"] == True].value_counts()\n",
    "eor_contracts_total = eor_contracts.value_counts()\n",
    "eor_percentage_delayed = (100 * eor_contracts_delayed.sum() / eor_contracts_total.sum())\n",
    "print(eor_percentage_delayed)"
   ]
  },
  {
   "cell_type": "code",
   "execution_count": 443,
   "id": "dfa2ea06-9923-4f1f-a00c-3c4a5e161aa4",
   "metadata": {},
   "outputs": [
    {
     "data": {
      "text/plain": [
       "Contract id                                                     object\n",
       "Employment Country Name                                         object\n",
       "Organization ID                                                  int64\n",
       "Created At Date                                         datetime64[ns]\n",
       "Employee Signup At Date                                 datetime64[ns]\n",
       "Step Verify Your Identity Completed At Date             datetime64[ns]\n",
       "Employee Provided Additional Info At Date               datetime64[ns]\n",
       "Employee Provided Bank Details Date                     datetime64[ns]\n",
       "Employee Provided Compliance Docs Date                  datetime64[ns]\n",
       "Employee Sign Ea At Date                                datetime64[ns]\n",
       "Deel Countersign Ea At Date                             datetime64[ns]\n",
       "Original Start Date                                     datetime64[ns]\n",
       "Actual Start Date                                       datetime64[ns]\n",
       "is_delayed                                                        bool\n",
       "time to Employee Signup At Date                                  int64\n",
       "time to Step Verify Your Identity Completed At Date              int64\n",
       "time to Employee Provided Additional Info At Date                int64\n",
       "time to Employee Provided Bank Details Date                      int64\n",
       "time to Employee Provided Compliance Docs Date                   int64\n",
       "time to Employee Sign Ea At Date                                 int64\n",
       "time to Deel Countersign Ea At Date                              int64\n",
       "time to Original Start Date                                      int64\n",
       "time to Actual Start Date                                        int64\n",
       "delay_days                                             timedelta64[ns]\n",
       "dtype: object"
      ]
     },
     "execution_count": 443,
     "metadata": {},
     "output_type": "execute_result"
    }
   ],
   "source": [
    "eor_contracts.dtypes\n"
   ]
  },
  {
   "cell_type": "code",
   "execution_count": 440,
   "id": "39de10c4-0ac1-47a5-8154-93f3b56644d4",
   "metadata": {},
   "outputs": [],
   "source": [
    "# Calculate days betweeen created date of contract and every step\n",
    "for column in eor_contracts.iloc[:, 4:13]:\n",
    "    eor_contracts[\"time to \"+ column] = (((eor_contracts[column] - eor_contracts[\"Created At Date\"]).dt.total_seconds()) / 86400).astype(int)\n",
    "    "
   ]
  },
  {
   "cell_type": "code",
   "execution_count": 441,
   "id": "ebb38a6b-64d5-4b60-9740-35ab3ecf406c",
   "metadata": {},
   "outputs": [
    {
     "data": {
      "text/plain": [
       "count                         1357\n",
       "mean     5 days 07:53:16.757553426\n",
       "std      7 days 09:55:16.425577757\n",
       "min                0 days 00:00:00\n",
       "25%                1 days 00:00:00\n",
       "50%                3 days 00:00:00\n",
       "75%                7 days 00:00:00\n",
       "max               78 days 00:00:00\n",
       "Name: delay_days, dtype: object"
      ]
     },
     "execution_count": 441,
     "metadata": {},
     "output_type": "execute_result"
    }
   ],
   "source": [
    "eor_contracts[\"delay_days\"] = eor_contracts[\"Actual Start Date\"] - eor_contracts[\"Original Start Date\"]\n",
    "eor_contracts[\"delay_days\"].describe()"
   ]
  },
  {
   "cell_type": "code",
   "execution_count": 444,
   "id": "7d9c9d00-7c95-4288-bc12-aaf8abb3dc8d",
   "metadata": {},
   "outputs": [
    {
     "data": {
      "text/html": [
       "<div>\n",
       "<style scoped>\n",
       "    .dataframe tbody tr th:only-of-type {\n",
       "        vertical-align: middle;\n",
       "    }\n",
       "\n",
       "    .dataframe tbody tr th {\n",
       "        vertical-align: top;\n",
       "    }\n",
       "\n",
       "    .dataframe thead th {\n",
       "        text-align: right;\n",
       "    }\n",
       "</style>\n",
       "<table border=\"1\" class=\"dataframe\">\n",
       "  <thead>\n",
       "    <tr style=\"text-align: right;\">\n",
       "      <th>is_delayed</th>\n",
       "      <th>False</th>\n",
       "      <th>True</th>\n",
       "    </tr>\n",
       "  </thead>\n",
       "  <tbody>\n",
       "    <tr>\n",
       "      <th>time to Employee Signup At Date</th>\n",
       "      <td>4.261128</td>\n",
       "      <td>4.975490</td>\n",
       "    </tr>\n",
       "    <tr>\n",
       "      <th>time to Step Verify Your Identity Completed At Date</th>\n",
       "      <td>5.498516</td>\n",
       "      <td>6.201961</td>\n",
       "    </tr>\n",
       "    <tr>\n",
       "      <th>time to Employee Provided Additional Info At Date</th>\n",
       "      <td>5.468843</td>\n",
       "      <td>6.686275</td>\n",
       "    </tr>\n",
       "    <tr>\n",
       "      <th>time to Employee Provided Bank Details Date</th>\n",
       "      <td>15.744807</td>\n",
       "      <td>16.452941</td>\n",
       "    </tr>\n",
       "    <tr>\n",
       "      <th>time to Employee Provided Compliance Docs Date</th>\n",
       "      <td>5.338279</td>\n",
       "      <td>6.494118</td>\n",
       "    </tr>\n",
       "    <tr>\n",
       "      <th>time to Employee Sign Ea At Date</th>\n",
       "      <td>13.068249</td>\n",
       "      <td>13.138235</td>\n",
       "    </tr>\n",
       "    <tr>\n",
       "      <th>time to Deel Countersign Ea At Date</th>\n",
       "      <td>19.109792</td>\n",
       "      <td>19.883333</td>\n",
       "    </tr>\n",
       "  </tbody>\n",
       "</table>\n",
       "</div>"
      ],
      "text/plain": [
       "is_delayed                                              False      True \n",
       "time to Employee Signup At Date                      4.261128   4.975490\n",
       "time to Step Verify Your Identity Completed At ...   5.498516   6.201961\n",
       "time to Employee Provided Additional Info At Date    5.468843   6.686275\n",
       "time to Employee Provided Bank Details Date         15.744807  16.452941\n",
       "time to Employee Provided Compliance Docs Date       5.338279   6.494118\n",
       "time to Employee Sign Ea At Date                    13.068249  13.138235\n",
       "time to Deel Countersign Ea At Date                 19.109792  19.883333"
      ]
     },
     "metadata": {},
     "output_type": "display_data"
    }
   ],
   "source": [
    "# Groupby delayed and non-delayed and transpose data for better visualization\n",
    "list_columns_time_delta = ['time to Employee Signup At Date', 'time to Step Verify Your Identity Completed At Date', 'time to Employee Provided Additional Info At Date', 'time to Employee Provided Bank Details Date', 'time to Employee Provided Compliance Docs Date', 'time to Employee Sign Ea At Date', 'time to Deel Countersign Ea At Date']\n",
    "eor_contracts_grouped_delayed = eor_contracts.groupby(by=['is_delayed'])[list_columns_time_delta].mean()\n",
    "eor_contracts_grouped_delayed_T = eor_contracts_grouped_delayed.T\n",
    "display(eor_contracts_grouped_delayed_T)"
   ]
  },
  {
   "cell_type": "code",
   "execution_count": 446,
   "id": "6937415d-3a60-4e3c-abe8-166ff47466b4",
   "metadata": {
    "scrolled": true
   },
   "outputs": [
    {
     "data": {
      "image/png": "[encoded data removed]",
      "text/plain": [
       "<Figure size 640x480 with 1 Axes>"
      ]
     },
     "metadata": {},
     "output_type": "display_data"
    },
    {
     "data": {
      "text/plain": [
       "<Figure size 640x480 with 0 Axes>"
      ]
     },
     "metadata": {},
     "output_type": "display_data"
    }
   ],
   "source": [
    "ax = eor_contracts_grouped_delayed_T.plot.bar(color=[\"#B1D8FC\",\"#FFCF25\"])\n",
    "xlbls = [ 'To sign up', 'To verify identity', 'To additional info',\n",
    "          'To bank details', 'To compliance docs', 'To sign EA', 'Deel sign EA']\n",
    "\n",
    "\n",
    "ax.set_xticklabels( xlbls )\n",
    "ax.set_ylabel(\"Number of days\")\n",
    "ax.set_xlabel(\"Time from created contract to...\")\n",
    "ax.set_title(\"Average time for each stage for delayed and non-delayed contracts\")\n",
    "ax.tick_params(axis='x', labelsize=10, rotation=25)\n",
    "plt.show()\n",
    "plt.savefig('avg_time.png')"
   ]
  },
  {
   "cell_type": "code",
   "execution_count": 434,
   "id": "69d82554-499a-488a-9ffe-0fae887550c6",
   "metadata": {},
   "outputs": [
    {
     "name": "stdout",
     "output_type": "stream",
     "text": [
      "is_delayed 0.7516580692704495\n",
      "time to Employee Signup At Date 4.798084008843036\n",
      "time to Step Verify Your Identity Completed At Date 6.0272660280029475\n",
      "time to Employee Provided Additional Info At Date 6.383935151068534\n",
      "time to Employee Provided Bank Details Date 16.27708179808401\n",
      "time to Employee Provided Compliance Docs Date 6.2070744288872515\n",
      "time to Employee Sign Ea At Date 13.120854826823876\n",
      "time to Deel Countersign Ea At Date 19.69123065585851\n",
      "time to Original Start Date 14.826086956521738\n",
      "delay_days 5 days 07:53:16.757553426\n"
     ]
    }
   ],
   "source": [
    "# Calculate average number of days for each step of the process\n",
    "for column in eor_contracts.iloc[:, 13:23]:\n",
    "    print(column + \" \" + str(eor_contracts[column].mean()))"
   ]
  },
  {
   "cell_type": "code",
   "execution_count": 457,
   "id": "e6343400-4644-4f69-91dc-b7e7d5d7ddbb",
   "metadata": {},
   "outputs": [],
   "source": [
    "# A/B Test KPI's\n",
    "ab_test_kpi = eor_contracts\n",
    "ab_test_kpi[\"kpi1\"] = (eor_contracts[\"Employee Sign Ea At Date\"] - eor_contracts[\"Employee Provided Compliance Docs Date\"]).mean()\n",
    "ab_test_kpi[\"kpi2\"] = (eor_contracts[\"Actual Start Date\"] - eor_contracts[\"Created At Date\"]).mean()"
   ]
  },
  {
   "cell_type": "code",
   "execution_count": 458,
   "id": "6acbb63f-57cb-4490-b753-b1f33edc236c",
   "metadata": {},
   "outputs": [
    {
     "name": "stdout",
     "output_type": "stream",
     "text": [
      "0      6 days 21:55:50.626381724\n",
      "1      6 days 21:55:50.626381724\n",
      "2      6 days 21:55:50.626381724\n",
      "3      6 days 21:55:50.626381724\n",
      "4      6 days 21:55:50.626381724\n",
      "                  ...           \n",
      "1352   6 days 21:55:50.626381724\n",
      "1353   6 days 21:55:50.626381724\n",
      "1354   6 days 21:55:50.626381724\n",
      "1355   6 days 21:55:50.626381724\n",
      "1356   6 days 21:55:50.626381724\n",
      "Name: kpi1, Length: 1357, dtype: timedelta64[ns]\n",
      "0      20 days 03:42:50.670596905\n",
      "1      20 days 03:42:50.670596905\n",
      "2      20 days 03:42:50.670596905\n",
      "3      20 days 03:42:50.670596905\n",
      "4      20 days 03:42:50.670596905\n",
      "                  ...            \n",
      "1352   20 days 03:42:50.670596905\n",
      "1353   20 days 03:42:50.670596905\n",
      "1354   20 days 03:42:50.670596905\n",
      "1355   20 days 03:42:50.670596905\n",
      "1356   20 days 03:42:50.670596905\n",
      "Name: kpi2, Length: 1357, dtype: timedelta64[ns]\n"
     ]
    }
   ],
   "source": [
    "print(ab_test_kpi[\"kpi1\"])\n",
    "print(ab_test_kpi[\"kpi2\"])\n"
   ]
  },
  {
   "cell_type": "code",
   "execution_count": null,
   "id": "fff81628-335b-450e-936b-128d3c8fe9da",
   "metadata": {},
   "outputs": [],
   "source": []
  }
 ],
 "metadata": {
  "kernelspec": {
   "display_name": "Python 3 (ipykernel)",
   "language": "python",
   "name": "python3"
  },
  "language_info": {
   "codemirror_mode": {
    "name": "ipython",
    "version": 3
   },
   "file_extension": ".py",
   "mimetype": "text/x-python",
   "name": "python",
   "nbconvert_exporter": "python",
   "pygments_lexer": "ipython3",
   "version": "3.11.4"
  }
 },
 "nbformat": 4,
 "nbformat_minor": 5
}
