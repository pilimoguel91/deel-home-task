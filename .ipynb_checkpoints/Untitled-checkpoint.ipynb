{
 "cells": [
  {
   "cell_type": "code",
   "execution_count": 1,
   "id": "a7601811-b456-4022-bc28-de4147eb3c8a",
   "metadata": {},
   "outputs": [],
   "source": [
    "import pandas as pd\n",
    "import psycopg2\n",
    "import dbt.project"
   ]
  },
  {
   "cell_type": "code",
   "execution_count": null,
   "id": "5883bcb5-11bd-4637-8fb9-94e030e99dad",
   "metadata": {},
   "outputs": [],
   "source": [
    "def new_conn():\n",
    "    project = dbt.project.read_project('dbt_project.yml')\n",
    "    profile = project.profiles[project['profile']]\n",
    "    conn_info = profile['outputs'][profile['target']]\n",
    "    return psycopg2.connect(host=conn_info['host'],\n",
    "                            port=conn_info['port'],\n",
    "                            user=conn_info['user'],\n",
    "                            password=conn_info['pass'],\n",
    "                            database=conn_info['dbname'])"
   ]
  }
 ],
 "metadata": {
  "kernelspec": {
   "display_name": "Python 3 (ipykernel)",
   "language": "python",
   "name": "python3"
  },
  "language_info": {
   "codemirror_mode": {
    "name": "ipython",
    "version": 3
   },
   "file_extension": ".py",
   "mimetype": "text/x-python",
   "name": "python",
   "nbconvert_exporter": "python",
   "pygments_lexer": "ipython3",
   "version": "3.11.4"
  }
 },
 "nbformat": 4,
 "nbformat_minor": 5
}
